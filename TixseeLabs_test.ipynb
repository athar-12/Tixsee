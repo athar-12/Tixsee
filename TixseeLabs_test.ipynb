{
  "nbformat": 4,
  "nbformat_minor": 0,
  "metadata": {
    "colab": {
      "name": "TixseeLabs_test.ipynb",
      "provenance": [],
      "collapsed_sections": []
    },
    "kernelspec": {
      "name": "python3",
      "display_name": "Python 3"
    },
    "language_info": {
      "name": "python"
    }
  },
  "cells": [
    {
      "cell_type": "code",
      "execution_count": 2,
      "metadata": {
        "colab": {
          "base_uri": "https://localhost:8080/"
        },
        "id": "dxqr7VMHbjJe",
        "outputId": "73797e19-9fc6-4473-feff-2fc944c6f3cf"
      },
      "outputs": [
        {
          "output_type": "stream",
          "name": "stdout",
          "text": [
            "Collecting pyspark\n",
            "  Downloading pyspark-3.2.0.tar.gz (281.3 MB)\n",
            "\u001b[K     |████████████████████████████████| 281.3 MB 33 kB/s \n",
            "\u001b[?25hCollecting py4j==0.10.9.2\n",
            "  Downloading py4j-0.10.9.2-py2.py3-none-any.whl (198 kB)\n",
            "\u001b[K     |████████████████████████████████| 198 kB 41.1 MB/s \n",
            "\u001b[?25hBuilding wheels for collected packages: pyspark\n",
            "  Building wheel for pyspark (setup.py) ... \u001b[?25l\u001b[?25hdone\n",
            "  Created wheel for pyspark: filename=pyspark-3.2.0-py2.py3-none-any.whl size=281805912 sha256=e5ed245af08a599fac7c0ca0a1afa0460069721e777045dc18263d259338f3f7\n",
            "  Stored in directory: /root/.cache/pip/wheels/0b/de/d2/9be5d59d7331c6c2a7c1b6d1a4f463ce107332b1ecd4e80718\n",
            "Successfully built pyspark\n",
            "Installing collected packages: py4j, pyspark\n",
            "Successfully installed py4j-0.10.9.2 pyspark-3.2.0\n"
          ]
        }
      ],
      "source": [
        "pip install pyspark\n"
      ]
    },
    {
      "cell_type": "code",
      "source": [
        "import pyspark"
      ],
      "metadata": {
        "id": "sM61d8g6b8gM"
      },
      "execution_count": null,
      "outputs": []
    },
    {
      "cell_type": "code",
      "source": [
        "import pyspark\n",
        "from pyspark.sql import SparkSession\n",
        "from pyspark.sql.types import *\n",
        "from pyspark.sql.functions import *\n",
        "spark = SparkSession.builder.getOrCreate()\n",
        "\n",
        "df = spark.sql(\"select 'spark' as hello \")\n",
        "\n",
        "df.show()\n",
        "schemaEmployee = StructType()\\\n",
        ".add(\"id\",LongType(),True)\\\n",
        ".add(\"first_name\",StringType(),True)\\\n",
        ".add(\"last_name\",StringType(),True)\\\n",
        ".add(\"salary\",DoubleType(),True)\\\n",
        ".add(\"dept_id\",IntegerType(),True)\n",
        "employee = spark.read.format(\"csv\")\\\n",
        ".option(\"header\",True)\\\n",
        ".schema(schemaEmployee).load(\"/users.csv\")\n",
        "\n",
        "sql = employee.select(employee.columns)\n",
        "sql.show()\n",
        "\n",
        "schemaDept = StructType()\\\n",
        ".add(\"dept_id\",IntegerType(),True)\\\n",
        ".add(\"dept_name\",StringType(),True)\\\n",
        ".add(\"salary_increment\",DoubleType(),True)\n",
        "department = spark.read.format(\"csv\")\\\n",
        ".option(\"header\",True)\\\n",
        ".schema(schemaDept).load(\"/departments.csv\")\n",
        "sql = department.select(department.columns)\n",
        "sql.show()\n",
        "\n",
        "updated_salaries = employee.join(department,employee[\"dept_id\"] == department[\"dept_id\"],\"left\").select(employee.id.alias(\"employee_id\"),(employee.salary*department.salary_increment).alias(\"updated_salary\"))\n",
        "updated_salaries.repartition(1).write.option(\"header\",\"true\").format(\"csv\").save(\"/Final/updated_salaries\")\n",
        "# print(employee.schema)\n",
        "# employee.show()"
      ],
      "metadata": {
        "colab": {
          "base_uri": "https://localhost:8080/"
        },
        "id": "xZ2QgHyecAw9",
        "outputId": "66d648ea-d3c9-4241-92c3-2fe0dd2d1396"
      },
      "execution_count": 19,
      "outputs": [
        {
          "output_type": "stream",
          "name": "stdout",
          "text": [
            "+-----+\n",
            "|hello|\n",
            "+-----+\n",
            "|spark|\n",
            "+-----+\n",
            "\n",
            "+-----+----------+---------+------+-------+\n",
            "|   id|first_name|last_name|salary|dept_id|\n",
            "+-----+----------+---------+------+-------+\n",
            "|10000|    Darius|  Mufutau|3901.0|      1|\n",
            "|10001|     Tiger|  Elliott|5489.0|      2|\n",
            "|10002|     Malik| Macaulay|5444.0|      3|\n",
            "|10003|       Ali|    Vance|8993.0|      4|\n",
            "|10004|   Randall|   Deacon|9515.0|      2|\n",
            "|10005|    Josiah|      Lee|8113.0|      3|\n",
            "|10006|     Dante| Mohammad|8446.0|      3|\n",
            "|10007|     Wyatt|    Kuame|4817.0|      4|\n",
            "|10008|     Quinn|   Oliver|5513.0|      1|\n",
            "|10009|    Oliver|     Gary|5158.0|      2|\n",
            "|10010|     Thane|   Phelan|4957.0|      3|\n",
            "|10011|    Walter|   Lester|3864.0|      1|\n",
            "|10012|    Samson|    Dolan|6855.0|      2|\n",
            "|10013|      Beck|   Walker|7077.0|      3|\n",
            "|10014|     Lucas| Marshall|7499.0|      4|\n",
            "|10015|      John|     Nash|4269.0|      2|\n",
            "|10016|   Quinlan|  Elliott|7503.0|      3|\n",
            "|10017|      Ivan|   Dennis|4048.0|      3|\n",
            "|10018|      Wang|    Ronan|9319.0|      4|\n",
            "|10019|     Stone|  Jameson|9354.0|      1|\n",
            "+-----+----------+---------+------+-------+\n",
            "only showing top 20 rows\n",
            "\n",
            "+-------+---------+----------------+\n",
            "|dept_id|dept_name|salary_increment|\n",
            "+-------+---------+----------------+\n",
            "|      1|  Finance|            10.0|\n",
            "|      2|       IT|            15.0|\n",
            "|      3|    Sales|            30.0|\n",
            "|      4|Marketing|            25.0|\n",
            "+-------+---------+----------------+\n",
            "\n"
          ]
        }
      ]
    },
    {
      "cell_type": "code",
      "source": [
        "from google.colab import drive\n",
        "drive.mount('/content/drive')"
      ],
      "metadata": {
        "id": "tuPUzVMPlZgr"
      },
      "execution_count": null,
      "outputs": []
    },
    {
      "cell_type": "code",
      "source": [
        "schemaDept = StructType()\\\n",
        ".add(\"dept_id\",IntegerType(),True)\\\n",
        ".add(\"dept_name\",StringType(),True)\\\n",
        ".add(\"salary_increment\",DoubleType(),True)\n",
        "department = spark.read.format(\"csv\")\\\n",
        ".option(\"header\",True)\\\n",
        ".schema(schemaDept).load(\"departments.csv\")\n",
        "sql = department.select(department.columns)\n",
        "sql.show()\n",
        "\n",
        "updated_salaries = employee.join(department,employee[\"dept_id\"] == department[\"dept_id\"],\"left\").select(employee.id.alias(\"employee_id\"),(employee.salary*department.salary_increment).alias(\"updated_salary\")).show()"
      ],
      "metadata": {
        "colab": {
          "base_uri": "https://localhost:8080/"
        },
        "id": "4Q931jR6nw5r",
        "outputId": "7dbf0cb5-be40-4b35-8633-fbee6ad2cc3c"
      },
      "execution_count": null,
      "outputs": [
        {
          "output_type": "stream",
          "name": "stdout",
          "text": [
            "+-------+---------+----------------+\n",
            "|dept_id|dept_name|salary_increment|\n",
            "+-------+---------+----------------+\n",
            "|      1|  Finance|            10.0|\n",
            "|      2|       IT|            15.0|\n",
            "|      3|    Sales|            30.0|\n",
            "|      4|Marketing|            25.0|\n",
            "+-------+---------+----------------+\n",
            "\n",
            "+-----------+--------------+\n",
            "|employee_id|updated_salary|\n",
            "+-----------+--------------+\n",
            "|      10000|       39010.0|\n",
            "|      10001|       82335.0|\n",
            "|      10002|      163320.0|\n",
            "|      10003|      224825.0|\n",
            "|      10004|      142725.0|\n",
            "|      10005|      243390.0|\n",
            "|      10006|      253380.0|\n",
            "|      10007|      120425.0|\n",
            "|      10008|       55130.0|\n",
            "|      10009|       77370.0|\n",
            "|      10010|      148710.0|\n",
            "|      10011|       38640.0|\n",
            "|      10012|      102825.0|\n",
            "|      10013|      212310.0|\n",
            "|      10014|      187475.0|\n",
            "|      10015|       64035.0|\n",
            "|      10016|      225090.0|\n",
            "|      10017|      121440.0|\n",
            "|      10018|      232975.0|\n",
            "|      10019|       93540.0|\n",
            "+-----------+--------------+\n",
            "only showing top 20 rows\n",
            "\n"
          ]
        }
      ]
    },
    {
      "cell_type": "markdown",
      "source": [
        "# New Section"
      ],
      "metadata": {
        "id": "puStpcZLiEvi"
      }
    }
  ]
}